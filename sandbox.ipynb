{
 "cells": [
  {
   "cell_type": "markdown",
   "id": "2688cc05-7fbf-4571-9eb6-5444b1dc917b",
   "metadata": {},
   "source": [
    "# test"
   ]
  },
  {
   "cell_type": "markdown",
   "id": "4f392a3d-1ac3-479a-8b36-fa79303b6186",
   "metadata": {},
   "source": [
    "Just some code to play with git... sandbox"
   ]
  },
  {
   "cell_type": "code",
   "execution_count": 1,
   "id": "bc52b74a-0568-4e1a-91c8-fdb1693ad99a",
   "metadata": {},
   "outputs": [
    {
     "data": {
      "text/plain": [
       "3"
      ]
     },
     "execution_count": 1,
     "metadata": {},
     "output_type": "execute_result"
    }
   ],
   "source": [
    "1+1+1"
   ]
  },
  {
   "cell_type": "code",
   "execution_count": 2,
   "id": "86fec213-4cf3-4bf5-95a3-15db2b2bcac8",
   "metadata": {},
   "outputs": [],
   "source": [
    "import torch "
   ]
  },
  {
   "cell_type": "code",
   "execution_count": 3,
   "id": "7d682721-9f4c-49e4-8924-2900b7e69356",
   "metadata": {},
   "outputs": [
    {
     "ename": "NameError",
     "evalue": "name 'tensor' is not defined",
     "output_type": "error",
     "traceback": [
      "\u001b[0;31m---------------------------------------------------------------------------\u001b[0m",
      "\u001b[0;31mNameError\u001b[0m                                 Traceback (most recent call last)",
      "Cell \u001b[0;32mIn [3], line 1\u001b[0m\n\u001b[0;32m----> 1\u001b[0m \u001b[43mtensor\u001b[49m(\u001b[38;5;241m1\u001b[39m)\n",
      "\u001b[0;31mNameError\u001b[0m: name 'tensor' is not defined"
     ]
    }
   ],
   "source": [
    "tensor(1)\n"
   ]
  },
  {
   "cell_type": "markdown",
   "id": "71bf10ea-8915-4e6a-a056-44610bc0ac25",
   "metadata": {},
   "source": [
    "here is how I calculate '1+1'"
   ]
  },
  {
   "cell_type": "code",
   "execution_count": 6,
   "id": "da9c2f10-0a6a-4808-a1fd-ea99d79f757a",
   "metadata": {},
   "outputs": [
    {
     "data": {
      "text/plain": [
       "2"
      ]
     },
     "execution_count": 6,
     "metadata": {},
     "output_type": "execute_result"
    }
   ],
   "source": [
    "1+1\n"
   ]
  },
  {
   "cell_type": "code",
   "execution_count": 1,
   "id": "49759138-b727-4e45-af35-62ec901abb92",
   "metadata": {},
   "outputs": [
    {
     "ename": "NameError",
     "evalue": "name 'sin' is not defined",
     "output_type": "error",
     "traceback": [
      "\u001b[0;31m---------------------------------------------------------------------------\u001b[0m",
      "\u001b[0;31mNameError\u001b[0m                                 Traceback (most recent call last)",
      "Cell \u001b[0;32mIn [1], line 1\u001b[0m\n\u001b[0;32m----> 1\u001b[0m \u001b[43msin\u001b[49m(\u001b[38;5;241m3.14\u001b[39m)\n",
      "\u001b[0;31mNameError\u001b[0m: name 'sin' is not defined"
     ]
    }
   ],
   "source": [
    "sin(3.14)"
   ]
  },
  {
   "cell_type": "code",
   "execution_count": null,
   "id": "8ebbde9c-f369-490d-8e2d-571da6fd170f",
   "metadata": {},
   "outputs": [],
   "source": []
  }
 ],
 "metadata": {
  "kernelspec": {
   "display_name": "Python 3 (ipykernel)",
   "language": "python",
   "name": "python3"
  },
  "language_info": {
   "codemirror_mode": {
    "name": "ipython",
    "version": 3
   },
   "file_extension": ".py",
   "mimetype": "text/x-python",
   "name": "python",
   "nbconvert_exporter": "python",
   "pygments_lexer": "ipython3",
   "version": "3.10.6"
  }
 },
 "nbformat": 4,
 "nbformat_minor": 5
}
